{
  "nbformat": 4,
  "nbformat_minor": 0,
  "metadata": {
    "colab": {
      "name": "1_0_dasar_python_dan_numpy.ipynb",
      "provenance": [],
      "authorship_tag": "ABX9TyMsQpdpIwscfELKDiedw/bM"
    },
    "kernelspec": {
      "name": "python3",
      "display_name": "Python 3"
    },
    "language_info": {
      "name": "python"
    }
  },
  "cells": [
    {
      "cell_type": "code",
      "metadata": {
        "id": "foqqPCODmxTU"
      },
      "source": [
        "test"
      ],
      "execution_count": null,
      "outputs": []
    },
    {
      "cell_type": "markdown",
      "metadata": {
        "id": "1GlKTUlzr3YE"
      },
      "source": [
        "test"
      ]
    }
  ]
}